{
  "nbformat": 4,
  "nbformat_minor": 0,
  "metadata": {
    "colab": {
      "provenance": [],
      "authorship_tag": "ABX9TyPmSzEkb4pKbhtAeF/LnyzI",
      "include_colab_link": true
    },
    "kernelspec": {
      "name": "python3",
      "display_name": "Python 3"
    },
    "language_info": {
      "name": "python"
    }
  },
  "cells": [
    {
      "cell_type": "markdown",
      "metadata": {
        "id": "view-in-github",
        "colab_type": "text"
      },
      "source": [
        "<a href=\"https://colab.research.google.com/github/JamesHop31/ADVANCE-DATA-VISUALIZATION-LAB-7/blob/main/ADVANCE_DATA_VISUALIZATION_LAB_6_ipynbynb.ipynb\" target=\"_parent\"><img src=\"https://colab.research.google.com/assets/colab-badge.svg\" alt=\"Open In Colab\"/></a>"
      ]
    },
    {
      "cell_type": "code",
      "execution_count": 6,
      "metadata": {
        "colab": {
          "base_uri": "https://localhost:8080/"
        },
        "id": "RUYl_9_p3eRr",
        "outputId": "ea202120-78a1-40b7-ed2a-ebe9ac103e8e"
      },
      "outputs": [
        {
          "output_type": "stream",
          "name": "stdout",
          "text": [
            "Hello! Please enter your name:\n",
            "james\n",
            "Enter your age:\n",
            "16\n",
            "Enter your weight (in kg):\n",
            "52\n",
            "Enter your height (in cm):\n",
            "162\n",
            "There are your inputs:\n",
            "james\n",
            "16 years old\n",
            "162.0cm\n",
            "52.0kg\n",
            "BMI Diagnosis: Normal/Healthy\n"
          ]
        }
      ],
      "source": [
        "print(\"Hello! Please enter your name:\")\n",
        "name = input()\n",
        "print(\"Enter your age:\")\n",
        "age = int(input())\n",
        "print(\"Enter your weight (in kg):\")\n",
        "weight =  float(input())\n",
        "print(\"Enter your height (in cm):\")\n",
        "height =  float(input())\n",
        "\n",
        "print(\"There are your inputs:\")\n",
        "print(name)\n",
        "print(str(age) + \" years old\")\n",
        "print(str(height) + \"cm\")\n",
        "print(str(weight) + \"kg\")\n",
        "\n",
        "bmiCompute = weight / ((height/100) * (height/100))\n",
        "if(bmiCompute < 18.5):\n",
        "  print(\"BMI Diagnosis: Underweight\")\n",
        "elif(bmiCompute < 24.9):\n",
        "  print(\"BMI Diagnosis: Normal/Healthy\")\n",
        "elif(bmiCompute < 29.9):\n",
        "  print(\"BMI Diagnosis: Overweight\")\n",
        "elif(bmiCompute > 30):\n",
        "  print(\"BMI Diagnosis: Obese\")"
      ]
    }
  ]
}